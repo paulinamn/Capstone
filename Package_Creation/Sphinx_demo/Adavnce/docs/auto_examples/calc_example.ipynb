{
  "cells": [
    {
      "cell_type": "markdown",
      "metadata": {},
      "source": [
        "\n# Calculator Example\n\nThis is some example code using functions from the calculator module.\n"
      ]
    },
    {
      "cell_type": "code",
      "execution_count": null,
      "metadata": {
        "collapsed": false
      },
      "outputs": [],
      "source": [
        "import os\nimport sys\nsys.path.insert(0, os.path.abspath(\"../src\"))\nfrom calculator import sum, subtract, multiply, divide\n\n# Example numbers for operations\nnumber1 = 8\nnumber2 = 2\n\n# Using the sum function to add two numbers\nresult_addition = sum(number1, number2)\nprint(f\"The sum of {number1} and {number2} is {result_addition}.\")\n\n# Using the subtract function to subtract the second number from the first\nresult_subtraction = subtract(number1, number2)\nprint(f\"The result of subtracting {number2} from {number1} is {result_subtraction}.\")\n\n# Using the multiply function to multiply two numbers\nresult_multiplication = multiply(number1, number2)\nprint(f\"The product of {number1} and {number2} is {result_multiplication}.\")\n\n# Using the divide function to divide the first number by the second\ntry:\n    result_division = divide(number1, number2)\n    print(f\"The quotient of {number1} divided by {number2} is {result_division}.\")\nexcept ZeroDivisionError:\n    print(\"Cannot divide by zero.\")\n\n# Attempt to divide by zero to demonstrate error handling\ntry:\n    zero_division_test = divide(number1, 0)\nexcept ZeroDivisionError:\n    print(\"An error occurred: cannot divide by zero.\")"
      ]
    }
  ],
  "metadata": {
    "kernelspec": {
      "display_name": "Python 3",
      "language": "python",
      "name": "python3"
    },
    "language_info": {
      "codemirror_mode": {
        "name": "ipython",
        "version": 3
      },
      "file_extension": ".py",
      "mimetype": "text/x-python",
      "name": "python",
      "nbconvert_exporter": "python",
      "pygments_lexer": "ipython3",
      "version": "3.11.5"
    }
  },
  "nbformat": 4,
  "nbformat_minor": 0
}